{
 "cells": [
  {
   "cell_type": "code",
   "execution_count": 1,
   "metadata": {},
   "outputs": [],
   "source": [
    "def get_lang_code(lang):\n",
    "    if lang == \"English\":\n",
    "        lang = \"en\"\n",
    "    elif lang == \"Hindi\":\n",
    "        lang = \"hi\"\n",
    "    elif lang == \"Tamil\":\n",
    "        lang = \"ta\"\n",
    "    elif lang == \"Polish\":\n",
    "        lang = \"pl\"\n",
    "    elif lang == \"Malayalam\":\n",
    "        lang = \"ml\"\n",
    "    else:\n",
    "        lang = \"en\"\n",
    "    return lang"
   ]
  },
  {
   "cell_type": "code",
   "execution_count": 2,
   "metadata": {},
   "outputs": [],
   "source": [
    "from gtts import gTTS\n",
    "from google_trans_new import google_translator\n",
    "\n",
    "def get_caption(image1, algo, lang):\n",
    "    \n",
    "    image2 = image1\n",
    "    \n",
    "#     if algo == \"CNN+RNN\":\n",
    "    img = tf.image.resize(image, (299, 299))\n",
    "    img = tf.keras.applications.inception_v3.preprocess_input(img)\n",
    "\n",
    "    caption, attention_plot = evaluate_gradio(img)\n",
    "    caption = ' '.join([str(elem) for elem in caption[:-1]])\n",
    "\n",
    "    lang = get_lang_code(lang)\n",
    "    translator = google_translator() \n",
    "\n",
    "    translated_text = translator.translate(caption, lang_tgt=lang)\n",
    "\n",
    "    audio = gTTS(text = translated_text, lang=lang, slow=False)\n",
    "    audio.save(\"audio.mp3\")\n",
    "    \n",
    "    return  \"audio.mp3\", caption, translated_text"
   ]
  },
  {
   "cell_type": "code",
   "execution_count": 3,
   "metadata": {},
   "outputs": [
    {
     "name": "stdout",
     "output_type": "stream",
     "text": [
      "IMPORTANT: You are using gradio version 1.4.0, however version 1.5.0 is available, please upgrade.\n",
      "--------\n",
      "Running locally at: http://127.0.0.1:7868/\n",
      "This share link will expire in 24 hours. If you need a permanent link, email support@gradio.app\n",
      "Running on External URL: https://53617.gradio.app\n",
      "Interface loading below...\n"
     ]
    },
    {
     "data": {
      "text/html": [
       "\n",
       "        <iframe\n",
       "            width=\"1000\"\n",
       "            height=\"500\"\n",
       "            src=\"https://53617.gradio.app\"\n",
       "            frameborder=\"0\"\n",
       "            allowfullscreen\n",
       "        ></iframe>\n",
       "        "
      ],
      "text/plain": [
       "<IPython.lib.display.IFrame at 0x136ccdfabe0>"
      ]
     },
     "metadata": {},
     "output_type": "display_data"
    },
    {
     "data": {
      "text/plain": [
       "(<Flask 'gradio.networking'>,\n",
       " 'http://127.0.0.1:7868/',\n",
       " 'https://53617.gradio.app')"
      ]
     },
     "execution_count": 3,
     "metadata": {},
     "output_type": "execute_result"
    },
    {
     "name": "stderr",
     "output_type": "stream",
     "text": [
      "[2021-06-01 10:54:13,006] ERROR in app: Exception on /api/predict/ [POST]\n",
      "Traceback (most recent call last):\n",
      "  File \"C:\\Users\\athul\\anaconda3\\lib\\site-packages\\flask\\app.py\", line 2447, in wsgi_app\n",
      "    response = self.full_dispatch_request()\n",
      "  File \"C:\\Users\\athul\\anaconda3\\lib\\site-packages\\flask\\app.py\", line 1952, in full_dispatch_request\n",
      "    rv = self.handle_user_exception(e)\n",
      "  File \"C:\\Users\\athul\\anaconda3\\lib\\site-packages\\flask_cors\\extension.py\", line 165, in wrapped_function\n",
      "    return cors_after_request(app.make_response(f(*args, **kwargs)))\n",
      "  File \"C:\\Users\\athul\\anaconda3\\lib\\site-packages\\flask\\app.py\", line 1821, in handle_user_exception\n",
      "    reraise(exc_type, exc_value, tb)\n",
      "  File \"C:\\Users\\athul\\anaconda3\\lib\\site-packages\\flask\\_compat.py\", line 39, in reraise\n",
      "    raise value\n",
      "  File \"C:\\Users\\athul\\anaconda3\\lib\\site-packages\\flask\\app.py\", line 1950, in full_dispatch_request\n",
      "    rv = self.dispatch_request()\n",
      "  File \"C:\\Users\\athul\\anaconda3\\lib\\site-packages\\flask\\app.py\", line 1936, in dispatch_request\n",
      "    return self.view_functions[rule.endpoint](**req.view_args)\n",
      "  File \"C:\\Users\\athul\\anaconda3\\lib\\site-packages\\gradio\\networking.py\", line 121, in predict\n",
      "    prediction, durations = app.interface.process(raw_input)\n",
      "  File \"C:\\Users\\athul\\anaconda3\\lib\\site-packages\\gradio\\interface.py\", line 271, in process\n",
      "    predictions, durations = self.run_prediction(processed_input, return_duration=True)\n",
      "  File \"C:\\Users\\athul\\anaconda3\\lib\\site-packages\\gradio\\interface.py\", line 245, in run_prediction\n",
      "    prediction = predict_fn(*processed_input)\n",
      "  File \"<ipython-input-2-9b8195b47c1f>\", line 9, in get_caption\n",
      "    img = tf.image.resize(image, (299, 299))\n",
      "NameError: name 'tf' is not defined\n",
      "[2021-06-01 11:10:32,056] ERROR in app: Exception on /api/predict/ [POST]\n",
      "Traceback (most recent call last):\n",
      "  File \"C:\\Users\\athul\\anaconda3\\lib\\site-packages\\flask\\app.py\", line 2447, in wsgi_app\n",
      "    response = self.full_dispatch_request()\n",
      "  File \"C:\\Users\\athul\\anaconda3\\lib\\site-packages\\flask\\app.py\", line 1952, in full_dispatch_request\n",
      "    rv = self.handle_user_exception(e)\n",
      "  File \"C:\\Users\\athul\\anaconda3\\lib\\site-packages\\flask_cors\\extension.py\", line 165, in wrapped_function\n",
      "    return cors_after_request(app.make_response(f(*args, **kwargs)))\n",
      "  File \"C:\\Users\\athul\\anaconda3\\lib\\site-packages\\flask\\app.py\", line 1821, in handle_user_exception\n",
      "    reraise(exc_type, exc_value, tb)\n",
      "  File \"C:\\Users\\athul\\anaconda3\\lib\\site-packages\\flask\\_compat.py\", line 39, in reraise\n",
      "    raise value\n",
      "  File \"C:\\Users\\athul\\anaconda3\\lib\\site-packages\\flask\\app.py\", line 1950, in full_dispatch_request\n",
      "    rv = self.dispatch_request()\n",
      "  File \"C:\\Users\\athul\\anaconda3\\lib\\site-packages\\flask\\app.py\", line 1936, in dispatch_request\n",
      "    return self.view_functions[rule.endpoint](**req.view_args)\n",
      "  File \"C:\\Users\\athul\\anaconda3\\lib\\site-packages\\gradio\\networking.py\", line 121, in predict\n",
      "    prediction, durations = app.interface.process(raw_input)\n",
      "  File \"C:\\Users\\athul\\anaconda3\\lib\\site-packages\\gradio\\interface.py\", line 271, in process\n",
      "    predictions, durations = self.run_prediction(processed_input, return_duration=True)\n",
      "  File \"C:\\Users\\athul\\anaconda3\\lib\\site-packages\\gradio\\interface.py\", line 245, in run_prediction\n",
      "    prediction = predict_fn(*processed_input)\n",
      "  File \"<ipython-input-2-9b8195b47c1f>\", line 9, in get_caption\n",
      "    img = tf.image.resize(image, (299, 299))\n",
      "NameError: name 'tf' is not defined\n"
     ]
    }
   ],
   "source": [
    "import gradio as gr\n",
    "\n",
    "img = gr.inputs.Image()\n",
    "\n",
    "title = \"Image Captioning\"\n",
    "\n",
    "image1 = gr.inputs.Image( type=\"numpy\")\n",
    "algo = gr.inputs.Radio([\"CNN+RNN\"], label=\"Choose Algorithm\")\n",
    "lang = gr.inputs.Radio([\"English\", \"Malayalam\", \"Hindi\", \"Tamil\", \"Polish\"], label=\"Choose Language\")\n",
    "\n",
    "# image2 = gr.outputs.Image(type=\"numpy\", label=\"Output\")\n",
    "\n",
    "audio = gr.outputs.Audio(type=\"auto\", label=None)\n",
    "\n",
    "caption = gr.outputs.Textbox(type=\"auto\", label=\"Label\")\n",
    "translated_text = gr.outputs.Textbox(type=\"auto\", label=\"Translated Label\")\n",
    "\n",
    "gr.Interface(get_caption, inputs = [image1, algo, lang],   \n",
    "             outputs = [audio, caption, translated_text], \n",
    "             title=title,\n",
    "             live=False).launch(share=True)"
   ]
  }
 ],
 "metadata": {
  "kernelspec": {
   "display_name": "Python 3",
   "language": "python",
   "name": "python3"
  },
  "language_info": {
   "codemirror_mode": {
    "name": "ipython",
    "version": 3
   },
   "file_extension": ".py",
   "mimetype": "text/x-python",
   "name": "python",
   "nbconvert_exporter": "python",
   "pygments_lexer": "ipython3",
   "version": "3.8.3"
  }
 },
 "nbformat": 4,
 "nbformat_minor": 4
}
