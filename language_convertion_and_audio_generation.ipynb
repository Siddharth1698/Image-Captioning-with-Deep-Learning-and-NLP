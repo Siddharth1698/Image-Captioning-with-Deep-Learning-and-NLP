{
 "cells": [
  {
   "cell_type": "code",
   "execution_count": 1,
   "metadata": {},
   "outputs": [
    {
     "name": "stdout",
     "output_type": "stream",
     "text": [
      "This is an example tag to be translated for testing\n"
     ]
    }
   ],
   "source": [
    "caption = ['This','is','an','example','tag','to','be','translated','for','testing','<end>']\n",
    "\n",
    "caption = ' '.join([str(elem) for elem in caption[:-1]])\n",
    "print(caption)"
   ]
  },
  {
   "cell_type": "code",
   "execution_count": 2,
   "metadata": {},
   "outputs": [],
   "source": [
    "from gtts import gTTS\n",
    "\n",
    "language = 'en'\n",
    "audio = gTTS(text=caption, lang=language, slow=False)\n",
    "audio.save(\"audio.mp3\")"
   ]
  },
  {
   "cell_type": "code",
   "execution_count": 3,
   "metadata": {},
   "outputs": [],
   "source": [
    "# ! pip install google_trans_new"
   ]
  },
  {
   "cell_type": "code",
   "execution_count": 4,
   "metadata": {},
   "outputs": [
    {
     "name": "stdout",
     "output_type": "stream",
     "text": [
      "ടെസ്റ്റിംഗിനായി വിവർത്തനം ചെയ്യേണ്ട ഒരു ഉദാഹരണ ടാഗാണ് ഇത് \n"
     ]
    }
   ],
   "source": [
    "from google_trans_new import google_translator\n",
    "\n",
    "translator = google_translator()  \n",
    "translate_text = translator.translate(caption, lang_tgt='ml')  \n",
    "print(translate_text)"
   ]
  },
  {
   "cell_type": "code",
   "execution_count": 5,
   "metadata": {},
   "outputs": [],
   "source": [
    "def get_lang_code(lang):\n",
    "    if lang == \"English\":\n",
    "        lang = \"en\"\n",
    "    elif lang == \"Hindi\":\n",
    "        lang = \"hi\"\n",
    "    elif lang == \"Tamil\":\n",
    "        lang = \"ta\"\n",
    "    elif lang == \"Polish\":\n",
    "        lang = \"pl\"\n",
    "    elif lang == \"Malayalam\":\n",
    "        lang = \"ml\"\n",
    "    else:\n",
    "        lang = \"en\"\n",
    "    return lang"
   ]
  },
  {
   "cell_type": "code",
   "execution_count": 6,
   "metadata": {},
   "outputs": [],
   "source": [
    "from gtts import gTTS\n",
    "from google_trans_new import google_translator\n",
    "\n",
    "def get_caption(lang, caption):\n",
    "\n",
    "    lang = get_lang_code(lang)\n",
    "    translator = google_translator() \n",
    "\n",
    "    translated_text = translator.translate(caption, lang_tgt=lang)\n",
    "\n",
    "    audio = gTTS(text = translated_text, lang=lang, slow=False)\n",
    "    audio.save(\"audio.mp3\")\n",
    "    \n",
    "    return  \"audio.mp3\", caption, translated_text"
   ]
  },
  {
   "cell_type": "code",
   "execution_count": 7,
   "metadata": {},
   "outputs": [
    {
     "name": "stdout",
     "output_type": "stream",
     "text": [
      "Actual Caption is :  This is an example tag to be translated for testing\n",
      "Language to be translated :  Malayalam\n",
      "Translated Caption is :  ടെസ്റ്റിംഗിനായി വിവർത്തനം ചെയ്യേണ്ട ഒരു ഉദാഹരണ ടാഗാണ് ഇത് \n",
      "Audio file :  audio.mp3\n"
     ]
    }
   ],
   "source": [
    "lang = \"Malayalam\"\n",
    "\n",
    "audio_file, caption, translated_text =  get_caption(lang, caption)\n",
    "\n",
    "print(\"Actual Caption is : \", caption)\n",
    "print(\"Language to be translated : \", lang)\n",
    "print(\"Translated Caption is : \", translated_text)\n",
    "print(\"Audio file : \", audio_file)"
   ]
  },
  {
   "cell_type": "code",
   "execution_count": 8,
   "metadata": {},
   "outputs": [
    {
     "name": "stdout",
     "output_type": "stream",
     "text": [
      "Actual Caption is :  This is an example tag to be translated for testing\n",
      "Language to be translated :  Tamil\n",
      "Translated Caption is :  சோதனைக்கு மொழிபெயர்க்கப்பட்ட ஒரு எடுத்துக்காட்டு குறிச்சொல் ஆகும் \n",
      "Audio file :  audio.mp3\n"
     ]
    }
   ],
   "source": [
    "lang = \"Tamil\"\n",
    "\n",
    "audio_file, caption, translated_text =  get_caption(lang, caption)\n",
    "\n",
    "print(\"Actual Caption is : \", caption)\n",
    "print(\"Language to be translated : \", lang)\n",
    "print(\"Translated Caption is : \", translated_text)\n",
    "print(\"Audio file : \", audio_file)"
   ]
  },
  {
   "cell_type": "code",
   "execution_count": 9,
   "metadata": {},
   "outputs": [
    {
     "name": "stdout",
     "output_type": "stream",
     "text": [
      "Actual Caption is :  This is an example tag to be translated for testing\n",
      "Language to be translated :  Hindi\n",
      "Translated Caption is :  परीक्षण के लिए अनुवादित करने के लिए यह एक उदाहरण टैग है \n",
      "Audio file :  audio.mp3\n"
     ]
    }
   ],
   "source": [
    "lang = \"Hindi\"\n",
    "\n",
    "audio_file, caption, translated_text =  get_caption(lang, caption)\n",
    "\n",
    "print(\"Actual Caption is : \", caption)\n",
    "print(\"Language to be translated : \", lang)\n",
    "print(\"Translated Caption is : \", translated_text)\n",
    "print(\"Audio file : \", audio_file)"
   ]
  }
 ],
 "metadata": {
  "kernelspec": {
   "display_name": "Python 3",
   "language": "python",
   "name": "python3"
  },
  "language_info": {
   "codemirror_mode": {
    "name": "ipython",
    "version": 3
   },
   "file_extension": ".py",
   "mimetype": "text/x-python",
   "name": "python",
   "nbconvert_exporter": "python",
   "pygments_lexer": "ipython3",
   "version": "3.8.3"
  }
 },
 "nbformat": 4,
 "nbformat_minor": 4
}
